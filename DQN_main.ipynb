{
  "cells": [
    {
      "cell_type": "code",
      "execution_count": 1,
      "metadata": {
        "colab": {
          "base_uri": "https://localhost:8080/"
        },
        "id": "15r-bmaKhh6P",
        "outputId": "4251e119-25ec-48c9-bd7d-8a5c07b49e46"
      },
      "outputs": [
        {
          "output_type": "stream",
          "name": "stdout",
          "text": [
            "Looking in indexes: https://pypi.org/simple, https://us-python.pkg.dev/colab-wheels/public/simple/\n",
            "Requirement already satisfied: gym[accept-rom-license,atari] in /usr/local/lib/python3.7/dist-packages (0.26.2)\n",
            "Requirement already satisfied: cloudpickle>=1.2.0 in /usr/local/lib/python3.7/dist-packages (from gym[accept-rom-license,atari]) (1.5.0)\n",
            "Requirement already satisfied: gym-notices>=0.0.4 in /usr/local/lib/python3.7/dist-packages (from gym[accept-rom-license,atari]) (0.0.8)\n",
            "Requirement already satisfied: importlib-metadata>=4.8.0 in /usr/local/lib/python3.7/dist-packages (from gym[accept-rom-license,atari]) (5.0.0)\n",
            "Requirement already satisfied: numpy>=1.18.0 in /usr/local/lib/python3.7/dist-packages (from gym[accept-rom-license,atari]) (1.21.6)\n",
            "Collecting autorom[accept-rom-license]~=0.4.2\n",
            "  Downloading AutoROM-0.4.2-py3-none-any.whl (16 kB)\n",
            "Collecting ale-py~=0.8.0\n",
            "  Downloading ale_py-0.8.0-cp37-cp37m-manylinux_2_17_x86_64.manylinux2014_x86_64.whl (1.7 MB)\n",
            "\u001b[K     |████████████████████████████████| 1.7 MB 5.3 MB/s \n",
            "\u001b[?25hRequirement already satisfied: typing-extensions in /usr/local/lib/python3.7/dist-packages (from ale-py~=0.8.0->gym[accept-rom-license,atari]) (4.1.1)\n",
            "Requirement already satisfied: importlib-resources in /usr/local/lib/python3.7/dist-packages (from ale-py~=0.8.0->gym[accept-rom-license,atari]) (5.10.0)\n",
            "Requirement already satisfied: click in /usr/local/lib/python3.7/dist-packages (from autorom[accept-rom-license]~=0.4.2->gym[accept-rom-license,atari]) (7.1.2)\n",
            "Requirement already satisfied: tqdm in /usr/local/lib/python3.7/dist-packages (from autorom[accept-rom-license]~=0.4.2->gym[accept-rom-license,atari]) (4.64.1)\n",
            "Requirement already satisfied: requests in /usr/local/lib/python3.7/dist-packages (from autorom[accept-rom-license]~=0.4.2->gym[accept-rom-license,atari]) (2.23.0)\n",
            "Collecting AutoROM.accept-rom-license\n",
            "  Downloading AutoROM.accept-rom-license-0.4.2.tar.gz (9.8 kB)\n",
            "  Installing build dependencies ... \u001b[?25l\u001b[?25hdone\n",
            "  Getting requirements to build wheel ... \u001b[?25l\u001b[?25hdone\n",
            "    Preparing wheel metadata ... \u001b[?25l\u001b[?25hdone\n",
            "Requirement already satisfied: zipp>=0.5 in /usr/local/lib/python3.7/dist-packages (from importlib-metadata>=4.8.0->gym[accept-rom-license,atari]) (3.9.0)\n",
            "Requirement already satisfied: idna<3,>=2.5 in /usr/local/lib/python3.7/dist-packages (from requests->autorom[accept-rom-license]~=0.4.2->gym[accept-rom-license,atari]) (2.10)\n",
            "Requirement already satisfied: urllib3!=1.25.0,!=1.25.1,<1.26,>=1.21.1 in /usr/local/lib/python3.7/dist-packages (from requests->autorom[accept-rom-license]~=0.4.2->gym[accept-rom-license,atari]) (1.24.3)\n",
            "Requirement already satisfied: chardet<4,>=3.0.2 in /usr/local/lib/python3.7/dist-packages (from requests->autorom[accept-rom-license]~=0.4.2->gym[accept-rom-license,atari]) (3.0.4)\n",
            "Requirement already satisfied: certifi>=2017.4.17 in /usr/local/lib/python3.7/dist-packages (from requests->autorom[accept-rom-license]~=0.4.2->gym[accept-rom-license,atari]) (2022.9.24)\n",
            "Building wheels for collected packages: AutoROM.accept-rom-license\n",
            "  Building wheel for AutoROM.accept-rom-license (PEP 517) ... \u001b[?25l\u001b[?25hdone\n",
            "  Created wheel for AutoROM.accept-rom-license: filename=AutoROM.accept_rom_license-0.4.2-py3-none-any.whl size=441027 sha256=67f5e7fedbe07b98b8cbbc4b916cf790cf354018ad4246cac52858b1869b4eed\n",
            "  Stored in directory: /root/.cache/pip/wheels/87/67/2e/6147e7912fe37f5408b80d07527dab807c1d25f5c403a9538a\n",
            "Successfully built AutoROM.accept-rom-license\n",
            "Installing collected packages: AutoROM.accept-rom-license, autorom, ale-py\n",
            "Successfully installed AutoROM.accept-rom-license-0.4.2 ale-py-0.8.0 autorom-0.4.2\n"
          ]
        }
      ],
      "source": [
        "%pip install -U gym>=0.21.0\n",
        "%pip install -U gym[atari,accept-rom-license]"
      ]
    },
    {
      "cell_type": "code",
      "execution_count": 2,
      "metadata": {
        "id": "sPbengkFL7PK"
      },
      "outputs": [],
      "source": [
        "import tensorflow as tf\n",
        "import gym\n",
        "from tensorflow import keras\n",
        "import numpy as np\n",
        "import matplotlib.pyplot as plt\n",
        "import datetime, os"
      ]
    },
    {
      "cell_type": "code",
      "execution_count": 3,
      "metadata": {
        "id": "AV5rPXXIMA44"
      },
      "outputs": [],
      "source": [
        "from gym.wrappers import AtariPreprocessing"
      ]
    },
    {
      "cell_type": "code",
      "execution_count": 4,
      "metadata": {
        "id": "F26SPmetlUB2"
      },
      "outputs": [],
      "source": [
        "class ScaledFloatFrame(gym.ObservationWrapper):\n",
        "     def observation(self, obs):\n",
        "         return np.array(obs).astype(np.float32) / 255.0"
      ]
    },
    {
      "cell_type": "code",
      "execution_count": 14,
      "metadata": {
        "id": "sgp_JzqpMI5p"
      },
      "outputs": [],
      "source": [
        "env = gym.make(\"ALE/Phoenix-v5\")\n",
        "env = AtariPreprocessing(env, frame_skip=1, grayscale_newaxis=True)\n",
        "env = ScaledFloatFrame(env)"
      ]
    },
    {
      "cell_type": "code",
      "execution_count": 15,
      "metadata": {
        "id": "EbL_SArKMwo5"
      },
      "outputs": [],
      "source": [
        "class DQN(keras.models.Model):\n",
        "    \n",
        "    def __init__(self, num_actions, dueling = False, noisy = False, stdv = 0.9):\n",
        "        super().__init__()\n",
        "        \n",
        "        self.num_actions = num_actions\n",
        "        self.dueling = dueling\n",
        "        self.noisy = noisy\n",
        "        self.stdv = stdv\n",
        "\n",
        "        if self.dueling:\n",
        "\n",
        "          self.v_network = keras.layers.Dense(1, activation = \"relu\")\n",
        "          self.advantage = keras.layers.Dense(num_actions)\n",
        "\n",
        "        #Convolutional Layers\n",
        "        self.conv1 = keras.layers.Conv2D(32, kernel_size = (4,4), strides=(2,2), padding=\"same\", activation=\"relu\")\n",
        "        self.batchn1 = keras.layers.BatchNormalization()\n",
        "        self.conv2 = keras.layers.Conv2D(64, kernel_size = (4,4), strides=(2,2), padding=\"same\", activation=\"relu\")\n",
        "        self.batchn2 = keras.layers.BatchNormalization()\n",
        "        self.conv3 = keras.layers.Conv2D(128, kernel_size = (4,4), strides=(2,2), padding=\"same\", activation=\"relu\")\n",
        "        self.batchn3 = keras.layers.BatchNormalization()\n",
        "        self.conv4 = keras.layers.Conv2D(256, kernel_size = (4,4), strides=(2,2), padding=\"same\", activation=\"relu\")\n",
        "        self.batchn4 = keras.layers.BatchNormalization()\n",
        "        self.flatten = keras.layers.Flatten()\n",
        "        \n",
        "        #Fully Connected Layers\n",
        "        self.hidden = keras.layers.Dense(256, activation = \"relu\")\n",
        "        self.hidden1 = keras.layers.Dense(256, activation = \"relu\")\n",
        "        self.hidden2 = keras.layers.Dense(128, activation = \"relu\")\n",
        "        self.out = keras.layers.Dense(self.num_actions)\n",
        "\n",
        "        #Noise Layers\n",
        "        self.noise = keras.layers.GaussianNoise(self.stdv, seed=741)\n",
        "        \n",
        "    def call(self, inputs):\n",
        "\n",
        "        x = self.conv1(inputs)\n",
        "        x = self.batchn1(x)\n",
        "\n",
        "        x = self.conv2(x)\n",
        "        x = self.batchn2(x)\n",
        "\n",
        "        x = self.conv3(x)\n",
        "        x = self.batchn3(x)\n",
        "\n",
        "        x = self.conv4(x)\n",
        "        x = self.batchn4(x)\n",
        "\n",
        "        flat = self.flatten(x)\n",
        "        \n",
        "        h = self.hidden(flat)\n",
        "        h = self.hidden1(h)\n",
        "        h = self.hidden2(h)\n",
        "\n",
        "\n",
        "\n",
        "        if self.noisy:\n",
        "\n",
        "          h = self.noise(h)\n",
        "\n",
        "        if self.dueling:\n",
        "\n",
        "          value = self.v_network(h)\n",
        "          advantage = self.advantage(h)\n",
        "          q_values = value - tf.math.reduce_max(advantage, axis=1) + advantage\n",
        "\n",
        "        else:\n",
        "\n",
        "          q_values = self.out(h)\n",
        "        \n",
        "        return q_values"
      ]
    },
    {
      "cell_type": "code",
      "execution_count": 16,
      "metadata": {
        "id": "xipG405wNNRw"
      },
      "outputs": [],
      "source": [
        "class ReplayBuffer:\n",
        "    \n",
        "    def __init__(self, max_size, batch_size):\n",
        "        \n",
        "        self.buffer = []\n",
        "        self.max_size = max_size\n",
        "        self.batch_size = batch_size\n",
        "    \n",
        "    def append(self, state, next_state, action, reward, done, info):\n",
        "        \n",
        "        sample = (state, next_state, action, reward, done, info)\n",
        "        \n",
        "        if len(self.buffer) >= self.max_size:\n",
        "            \n",
        "            self.buffer.pop(0)\n",
        "        \n",
        "        self.buffer.append(sample)\n",
        "        \n",
        "    def sample(self):\n",
        "        \n",
        "        idxs = np.random.choice(np.arange(len(self.buffer)), size = self.batch_size)\n",
        "        \n",
        "        states = [self.buffer[i][0] for i in idxs]\n",
        "        next_states = [self.buffer[i][1] for i in idxs]\n",
        "        actions = [self.buffer[i][2] for i in idxs]\n",
        "        rewards = [self.buffer[i][3] for i in idxs]\n",
        "        dones = [self.buffer[i][4] for i in idxs]\n",
        "            \n",
        "        return np.array(states), np.array(next_states), actions, rewards, dones"
      ]
    },
    {
      "cell_type": "code",
      "execution_count": 17,
      "metadata": {
        "id": "Txyg-lTUNXMn"
      },
      "outputs": [],
      "source": [
        "class Agent:\n",
        "    \n",
        "    def __init__(self, env, dqn, target_dqn, epsilon, replay_buffer, double, noisy = False):\n",
        "        \n",
        "        self.env = env\n",
        "        self.network = dqn\n",
        "        self.target_net = target_dqn\n",
        "        self.epsilon = epsilon\n",
        "        self.experience_replay = replay_buffer\n",
        "        self.double = double\n",
        "        self.counter = 0\n",
        "        self.update_rate = 80\n",
        "        self.discount_factor = 0.9\n",
        "        self.noisy = noisy\n",
        "\n",
        "        \n",
        "    def sample_action(self, state):\n",
        "        \n",
        "        q_values = self.network(tf.expand_dims(state, axis=0))\n",
        "        \n",
        "        if np.random.random() > self.epsilon:\n",
        "            \n",
        "            action = np.argmax(q_values)\n",
        "            \n",
        "        else:\n",
        "            \n",
        "            action = np.random.choice([i for i in range(self.env.action_space.n)])\n",
        "            \n",
        "        return action\n",
        "        \n",
        "\n",
        "    def train(self):\n",
        "\n",
        "      if len(self.experience_replay.buffer) < self.experience_replay.batch_size:\n",
        "\n",
        "        return\n",
        "\n",
        "      states, next_states, actions, rewards, dones = self.experience_replay.sample()\n",
        "\n",
        "      q_values = self.network(states).numpy()\n",
        "\n",
        "      if not self.double:\n",
        "\n",
        "        q_values_next = self.target_net(next_states)\n",
        "        q_target = tf.math.reduce_max(q_values_next, axis=1, keepdims=True).numpy()\n",
        "\n",
        "      else:\n",
        "        q_values_next = self.network(next_states).numpy()\n",
        "        q_values_next_tar = self.network(next_states)\n",
        "        actions_n = tf.argmax(q_values_next_tar, axis=1).numpy()\n",
        "        \n",
        "        q_target = [q_vals[action] for q_vals, action in zip(q_values_next, actions_n)]\n",
        "\n",
        "      q_pred = np.copy(q_values)\n",
        "\n",
        "      assert len(q_target) == len(dones)\n",
        "\n",
        "      for idx in range(len(q_target)):\n",
        "\n",
        "        if not dones[idx]:\n",
        "\n",
        "          q_pred[idx, actions[idx]] = q_target[idx] + rewards[idx]\n",
        "\n",
        "        else:\n",
        "\n",
        "          q_pred[idx, actions[idx]] = rewards[idx]\n",
        "\n",
        "\n",
        "      self.network.train_on_batch(states, q_pred)\n",
        "\n",
        "      self.counter += 1\n",
        "\n",
        "      if self.counter % self.update_rate == 0:\n",
        "\n",
        "        self.target_net.set_weights(self.network.get_weights())"
      ]
    },
    {
      "cell_type": "code",
      "execution_count": 18,
      "metadata": {
        "colab": {
          "base_uri": "https://localhost:8080/"
        },
        "id": "h6tCVaRxNaZR",
        "outputId": "6ff095a6-9cad-428b-f912-be4cf934d0f4"
      },
      "outputs": [
        {
          "output_type": "stream",
          "name": "stdout",
          "text": [
            "Model: \"dqn_2\"\n",
            "_________________________________________________________________\n",
            " Layer (type)                Output Shape              Param #   \n",
            "=================================================================\n",
            " conv2d_8 (Conv2D)           multiple                  544       \n",
            "                                                                 \n",
            " batch_normalization_8 (Batc  multiple                 128       \n",
            " hNormalization)                                                 \n",
            "                                                                 \n",
            " conv2d_9 (Conv2D)           multiple                  32832     \n",
            "                                                                 \n",
            " batch_normalization_9 (Batc  multiple                 256       \n",
            " hNormalization)                                                 \n",
            "                                                                 \n",
            " conv2d_10 (Conv2D)          multiple                  131200    \n",
            "                                                                 \n",
            " batch_normalization_10 (Bat  multiple                 512       \n",
            " chNormalization)                                                \n",
            "                                                                 \n",
            " conv2d_11 (Conv2D)          multiple                  524544    \n",
            "                                                                 \n",
            " batch_normalization_11 (Bat  multiple                 1024      \n",
            " chNormalization)                                                \n",
            "                                                                 \n",
            " flatten_2 (Flatten)         multiple                  0         \n",
            "                                                                 \n",
            " dense_8 (Dense)             multiple                  2359552   \n",
            "                                                                 \n",
            " dense_9 (Dense)             multiple                  65792     \n",
            "                                                                 \n",
            " dense_10 (Dense)            multiple                  32896     \n",
            "                                                                 \n",
            " dense_11 (Dense)            multiple                  2322      \n",
            "                                                                 \n",
            " gaussian_noise_2 (GaussianN  multiple                 0 (unused)\n",
            " oise)                                                           \n",
            "                                                                 \n",
            "=================================================================\n",
            "Total params: 3,151,602\n",
            "Trainable params: 3,150,642\n",
            "Non-trainable params: 960\n",
            "_________________________________________________________________\n"
          ]
        }
      ],
      "source": [
        "main_net = DQN(env.env.action_space.n, dueling=False, noisy=False)\n",
        "\n",
        "main_net.compile(optimizer=tf.keras.optimizers.Adam(0.00075), loss=\"mse\")\n",
        "main_net.build(input_shape=[None,84,84,1])\n",
        "\n",
        "main_net.summary()"
      ]
    },
    {
      "cell_type": "code",
      "execution_count": 19,
      "metadata": {
        "id": "9q-tkCB5NdWg"
      },
      "outputs": [],
      "source": [
        "target_net = DQN(env.env.action_space.n, dueling=False)\n",
        "target_net.build(input_shape=[None,84,84,1])\n",
        "\n",
        "target_net.set_weights(main_net.get_weights())"
      ]
    },
    {
      "cell_type": "code",
      "execution_count": 20,
      "metadata": {
        "id": "e5CbAstkNPfI"
      },
      "outputs": [],
      "source": [
        "experience_replay = ReplayBuffer(1000,64)"
      ]
    },
    {
      "cell_type": "code",
      "execution_count": 21,
      "metadata": {
        "id": "YPI6k4CqNu0S"
      },
      "outputs": [],
      "source": [
        "agent = Agent(env, main_net, target_net, 1, experience_replay, False)"
      ]
    },
    {
      "cell_type": "markdown",
      "metadata": {
        "id": "0e3Fzeq5Pbhw"
      },
      "source": [
        "## **Training Loop**\n"
      ]
    },
    {
      "cell_type": "code",
      "execution_count": 13,
      "metadata": {
        "id": "wyto1qMWNxv_"
      },
      "outputs": [],
      "source": [
        "epochs = 20\n",
        "\n",
        "min_epsilon = 0.05\n",
        "\n",
        "epsilon_decay = (agent.epsilon-min_epsilon)/5"
      ]
    },
    {
      "cell_type": "code",
      "execution_count": 22,
      "metadata": {
        "id": "L9HWcKhpVkAo"
      },
      "outputs": [],
      "source": [
        "returns = []\n",
        "avg_returns = []\n",
        "epsilons = []\n",
        "total_steps = 0"
      ]
    },
    {
      "cell_type": "code",
      "execution_count": 23,
      "metadata": {
        "id": "X38WDgUMftWC"
      },
      "outputs": [],
      "source": [
        "state = env.reset()[0]"
      ]
    },
    {
      "cell_type": "code",
      "execution_count": 24,
      "metadata": {
        "colab": {
          "base_uri": "https://localhost:8080/"
        },
        "id": "sEmpksVngw3C",
        "outputId": "5d835aaf-945e-493d-f363-0249a3d4378a"
      },
      "outputs": [
        {
          "output_type": "execute_result",
          "data": {
            "text/plain": [
              "dtype('float32')"
            ]
          },
          "metadata": {},
          "execution_count": 24
        }
      ],
      "source": [
        "state.dtype"
      ]
    },
    {
      "cell_type": "code",
      "execution_count": null,
      "metadata": {
        "colab": {
          "base_uri": "https://localhost:8080/"
        },
        "id": "qxEFDaggN0UV",
        "outputId": "b0caea55-730d-4e61-d20e-6e9463203ff3"
      },
      "outputs": [
        {
          "output_type": "stream",
          "name": "stderr",
          "text": [
            "WARNING:tensorflow:Skipping full serialization of Keras layer <keras.layers.regularization.gaussian_noise.GaussianNoise object at 0x7fb61b72df10>, because it is not built.\n",
            "WARNING:absl:Found untraced functions such as _jit_compiled_convolution_op, _jit_compiled_convolution_op, _jit_compiled_convolution_op, _jit_compiled_convolution_op while saving (showing 4 of 4). These functions will not be directly callable after loading.\n"
          ]
        },
        {
          "output_type": "stream",
          "name": "stdout",
          "text": [
            "Episode: 0/20 return of -6.0 average reward of: -6.0 epsilon: 0.81in 1771 steps\n"
          ]
        },
        {
          "output_type": "stream",
          "name": "stderr",
          "text": [
            "WARNING:tensorflow:Skipping full serialization of Keras layer <keras.layers.regularization.gaussian_noise.GaussianNoise object at 0x7fb61b72df10>, because it is not built.\n",
            "WARNING:absl:Found untraced functions such as _jit_compiled_convolution_op, _jit_compiled_convolution_op, _jit_compiled_convolution_op, _jit_compiled_convolution_op while saving (showing 4 of 4). These functions will not be directly callable after loading.\n"
          ]
        },
        {
          "output_type": "stream",
          "name": "stdout",
          "text": [
            "Episode: 1/20 return of 0.0 average reward of: -3.0 epsilon: 0.6200000000000001in 1777 steps\n"
          ]
        }
      ],
      "source": [
        "for epoch in range(epochs):\n",
        "    \n",
        "\n",
        "    Return = 0\n",
        "    done = False\n",
        "    state = env.reset()[0]\n",
        "    steps = 0\n",
        "\n",
        "    while not done:\n",
        "\n",
        "      action = agent.sample_action(state)\n",
        "      next_state, reward, done, _, info = env.step(action)\n",
        "      Return += reward\n",
        "      agent.experience_replay.append(state, next_state, action, reward, done, info)\n",
        "      state = next_state\n",
        "      steps += 1\n",
        "\n",
        "      agent.train()\n",
        "\n",
        "    returns.append(Return)\n",
        "    avg_return = np.mean(returns[-10:])\n",
        "    avg_returns.append(avg_return)\n",
        "\n",
        "    epsilons.append(agent.epsilon)\n",
        "    agent.epsilon = np.max([agent.epsilon-epsilon_decay, min_epsilon])\n",
        "\n",
        "    agent.target_net.set_weights(agent.network.get_weights())\n",
        "\n",
        "    agent.network.save(f\"dqn_experiment_{ epoch }\", save_format='tf')\n",
        "\n",
        "    total_steps += steps\n",
        "    \n",
        "    print(\"Episode: \" + str(epoch)+\"/\"+str(epochs) + \" return of \"+ str(Return) + \" average reward of: \" + str(avg_return) + \" epsilon: \" + str(agent.epsilon) + \"in \" + str(steps) + \" steps\")"
      ]
    },
    {
      "cell_type": "code",
      "execution_count": null,
      "metadata": {
        "id": "Yt2MMEtwmL04"
      },
      "outputs": [],
      "source": [
        "states, next_states, actions, rewards, dones = agent.experience_replay.sample()"
      ]
    },
    {
      "cell_type": "code",
      "execution_count": null,
      "metadata": {
        "colab": {
          "base_uri": "https://localhost:8080/",
          "height": 592
        },
        "id": "63gBCOShPt3U",
        "outputId": "fb3880ae-b5de-43d5-bc25-3a273e8be97a"
      },
      "outputs": [
        {
          "data": {
            "image/png": "[encoded data removed]",
            "text/plain": [
              "<Figure size 1368x720 with 1 Axes>"
            ]
          },
          "metadata": {},
          "output_type": "display_data"
        }
      ],
      "source": [
        "plt.figure(figsize=(19,10))\n",
        "plt.plot(range(len(avg_returns)), avg_returns)\n",
        "plt.show()"
      ]
    },
    {
      "cell_type": "code",
      "execution_count": null,
      "metadata": {
        "id": "Rnr5-BHCX7Nq"
      },
      "outputs": [],
      "source": [
        "agent.network.save(\"dqn_experiment_1\", save_format='tf')"
      ]
    },
    {
      "cell_type": "code",
      "execution_count": null,
      "metadata": {
        "colab": {
          "base_uri": "https://localhost:8080/"
        },
        "id": "Gi6CI0tzYfv-",
        "outputId": "23c85e4a-237c-4f97-87bb-378145575c96"
      },
      "outputs": [
        {
          "name": "stdout",
          "output_type": "stream",
          "text": [
            "  adding: content/dqn_experiment_1/ (stored 0%)\n",
            "  adding: content/dqn_experiment_1/keras_metadata.pb (deflated 75%)\n",
            "  adding: content/dqn_experiment_1/variables/ (stored 0%)\n",
            "  adding: content/dqn_experiment_1/variables/variables.data-00000-of-00001 (deflated 59%)\n",
            "  adding: content/dqn_experiment_1/variables/variables.index (deflated 41%)\n",
            "  adding: content/dqn_experiment_1/assets/ (stored 0%)\n",
            "  adding: content/dqn_experiment_1/saved_model.pb (deflated 86%)\n"
          ]
        }
      ],
      "source": [
        "!zip -r /content/dqn_experiment_1.zip /content/dqn_experiment_1"
      ]
    },
    {
      "cell_type": "code",
      "execution_count": null,
      "metadata": {
        "id": "kFP-fiDOYcGD"
      },
      "outputs": [],
      "source": [
        "from google.colab import files"
      ]
    },
    {
      "cell_type": "code",
      "execution_count": null,
      "metadata": {
        "id": "B2bOl8uHl2nB"
      },
      "outputs": [],
      "source": []
    }
  ],
  "metadata": {
    "accelerator": "TPU",
    "colab": {
      "collapsed_sections": [],
      "provenance": []
    },
    "kernelspec": {
      "display_name": "Python 3",
      "name": "python3"
    },
    "language_info": {
      "name": "python"
    }
  },
  "nbformat": 4,
  "nbformat_minor": 0
}